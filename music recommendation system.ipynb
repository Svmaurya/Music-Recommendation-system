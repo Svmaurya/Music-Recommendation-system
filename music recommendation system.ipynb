{
 "cells": [
  {
   "cell_type": "code",
   "execution_count": 131,
   "id": "3a50b6f2",
   "metadata": {},
   "outputs": [],
   "source": [
    "import numpy as np\n",
    "import pandas as pd"
   ]
  },
  {
   "cell_type": "code",
   "execution_count": 132,
   "id": "718d29bb",
   "metadata": {},
   "outputs": [],
   "source": [
    "df=pd.read_csv('ex.csv')"
   ]
  },
  {
   "cell_type": "code",
   "execution_count": 133,
   "id": "772e2c01",
   "metadata": {},
   "outputs": [
    {
     "data": {
      "text/html": [
       "<div>\n",
       "<style scoped>\n",
       "    .dataframe tbody tr th:only-of-type {\n",
       "        vertical-align: middle;\n",
       "    }\n",
       "\n",
       "    .dataframe tbody tr th {\n",
       "        vertical-align: top;\n",
       "    }\n",
       "\n",
       "    .dataframe thead th {\n",
       "        text-align: right;\n",
       "    }\n",
       "</style>\n",
       "<table border=\"1\" class=\"dataframe\">\n",
       "  <thead>\n",
       "    <tr style=\"text-align: right;\">\n",
       "      <th></th>\n",
       "      <th>Song-Name</th>\n",
       "      <th>Singer/Artists</th>\n",
       "      <th>Genre</th>\n",
       "      <th>Album/Movie</th>\n",
       "      <th>User-Rating</th>\n",
       "    </tr>\n",
       "  </thead>\n",
       "  <tbody>\n",
       "    <tr>\n",
       "      <th>0</th>\n",
       "      <td>Aankh Marey</td>\n",
       "      <td>Kumar Sanu, Mika Singh, Neha Kakkar</td>\n",
       "      <td>BollywoodDance</td>\n",
       "      <td>Simmba</td>\n",
       "      <td>8.8/10</td>\n",
       "    </tr>\n",
       "    <tr>\n",
       "      <th>1</th>\n",
       "      <td>Coca Cola</td>\n",
       "      <td>Neha Kakkar, Tony Kakkar</td>\n",
       "      <td>BollywoodDanceRomantic</td>\n",
       "      <td>Luka Chuppi</td>\n",
       "      <td>9.0/10</td>\n",
       "    </tr>\n",
       "    <tr>\n",
       "      <th>2</th>\n",
       "      <td>Apna Time Aayega</td>\n",
       "      <td>Ranveer Singh</td>\n",
       "      <td>BollywoodDance</td>\n",
       "      <td>Gully Boy</td>\n",
       "      <td>9.7/10</td>\n",
       "    </tr>\n",
       "    <tr>\n",
       "      <th>3</th>\n",
       "      <td>Mungda</td>\n",
       "      <td>Jyotica Tangri, Shaan, Subhro Ganguly</td>\n",
       "      <td>BollywoodDance</td>\n",
       "      <td>Total Dhamaal</td>\n",
       "      <td>9.1/10</td>\n",
       "    </tr>\n",
       "    <tr>\n",
       "      <th>4</th>\n",
       "      <td>Tere Bin</td>\n",
       "      <td>Asees Kaur, Rahat Fateh Ali Khan, Tanishk Bagchi</td>\n",
       "      <td>BollywoodRomantic</td>\n",
       "      <td>Simmba</td>\n",
       "      <td>9.2/10</td>\n",
       "    </tr>\n",
       "  </tbody>\n",
       "</table>\n",
       "</div>"
      ],
      "text/plain": [
       "          Song-Name                                    Singer/Artists  \\\n",
       "0       Aankh Marey               Kumar Sanu, Mika Singh, Neha Kakkar   \n",
       "1         Coca Cola                          Neha Kakkar, Tony Kakkar   \n",
       "2  Apna Time Aayega                                     Ranveer Singh   \n",
       "3            Mungda             Jyotica Tangri, Shaan, Subhro Ganguly   \n",
       "4          Tere Bin  Asees Kaur, Rahat Fateh Ali Khan, Tanishk Bagchi   \n",
       "\n",
       "                    Genre    Album/Movie User-Rating  \n",
       "0          BollywoodDance         Simmba      8.8/10  \n",
       "1  BollywoodDanceRomantic    Luka Chuppi      9.0/10  \n",
       "2          BollywoodDance      Gully Boy      9.7/10  \n",
       "3          BollywoodDance  Total Dhamaal      9.1/10  \n",
       "4       BollywoodRomantic         Simmba      9.2/10  "
      ]
     },
     "execution_count": 133,
     "metadata": {},
     "output_type": "execute_result"
    }
   ],
   "source": [
    "df.head()"
   ]
  },
  {
   "cell_type": "code",
   "execution_count": 134,
   "id": "14234db6",
   "metadata": {},
   "outputs": [
    {
     "name": "stdout",
     "output_type": "stream",
     "text": [
      "(2420, 5)\n"
     ]
    }
   ],
   "source": [
    "print(df.shape)"
   ]
  },
  {
   "cell_type": "code",
   "execution_count": 135,
   "id": "92fafc10",
   "metadata": {},
   "outputs": [
    {
     "data": {
      "text/plain": [
       "Song-Name          0\n",
       "Singer/Artists    10\n",
       "Genre              0\n",
       "Album/Movie        3\n",
       "User-Rating        0\n",
       "dtype: int64"
      ]
     },
     "execution_count": 135,
     "metadata": {},
     "output_type": "execute_result"
    }
   ],
   "source": [
    "df.isnull().sum()"
   ]
  },
  {
   "cell_type": "code",
   "execution_count": 136,
   "id": "d9ad958d",
   "metadata": {},
   "outputs": [
    {
     "data": {
      "text/plain": [
       "16"
      ]
     },
     "execution_count": 136,
     "metadata": {},
     "output_type": "execute_result"
    }
   ],
   "source": [
    "df.duplicated().sum()"
   ]
  },
  {
   "cell_type": "code",
   "execution_count": 137,
   "id": "49a61f55",
   "metadata": {},
   "outputs": [],
   "source": [
    "df=df.drop_duplicates()"
   ]
  },
  {
   "cell_type": "code",
   "execution_count": 138,
   "id": "97c309c4",
   "metadata": {},
   "outputs": [
    {
     "data": {
      "text/plain": [
       "0"
      ]
     },
     "execution_count": 138,
     "metadata": {},
     "output_type": "execute_result"
    }
   ],
   "source": [
    "df.duplicated().sum()"
   ]
  },
  {
   "cell_type": "code",
   "execution_count": 139,
   "id": "202a4269",
   "metadata": {},
   "outputs": [],
   "source": [
    "df.dropna(inplace=True)"
   ]
  },
  {
   "cell_type": "code",
   "execution_count": 140,
   "id": "176c6ae8",
   "metadata": {},
   "outputs": [
    {
     "data": {
      "text/plain": [
       "Song-Name         0\n",
       "Singer/Artists    0\n",
       "Genre             0\n",
       "Album/Movie       0\n",
       "User-Rating       0\n",
       "dtype: int64"
      ]
     },
     "execution_count": 140,
     "metadata": {},
     "output_type": "execute_result"
    }
   ],
   "source": [
    "df.isnull().sum()"
   ]
  },
  {
   "cell_type": "code",
   "execution_count": 141,
   "id": "17d6960f",
   "metadata": {},
   "outputs": [
    {
     "data": {
      "text/plain": [
       "'BollywoodDance'"
      ]
     },
     "execution_count": 141,
     "metadata": {},
     "output_type": "execute_result"
    }
   ],
   "source": [
    "df.iloc[0].Genre"
   ]
  },
  {
   "cell_type": "code",
   "execution_count": 142,
   "id": "567d9ba4",
   "metadata": {},
   "outputs": [],
   "source": [
    "l=[]\n",
    "for i in df['User-Rating']:\n",
    "    l.append(i[:3])"
   ]
  },
  {
   "cell_type": "code",
   "execution_count": 143,
   "id": "26bc5109",
   "metadata": {},
   "outputs": [
    {
     "data": {
      "text/html": [
       "<div>\n",
       "<style scoped>\n",
       "    .dataframe tbody tr th:only-of-type {\n",
       "        vertical-align: middle;\n",
       "    }\n",
       "\n",
       "    .dataframe tbody tr th {\n",
       "        vertical-align: top;\n",
       "    }\n",
       "\n",
       "    .dataframe thead th {\n",
       "        text-align: right;\n",
       "    }\n",
       "</style>\n",
       "<table border=\"1\" class=\"dataframe\">\n",
       "  <thead>\n",
       "    <tr style=\"text-align: right;\">\n",
       "      <th></th>\n",
       "      <th>Song-Name</th>\n",
       "      <th>Singer/Artists</th>\n",
       "      <th>Genre</th>\n",
       "      <th>Album/Movie</th>\n",
       "      <th>User-Rating</th>\n",
       "    </tr>\n",
       "  </thead>\n",
       "  <tbody>\n",
       "    <tr>\n",
       "      <th>0</th>\n",
       "      <td>Aankh Marey</td>\n",
       "      <td>Kumar Sanu, Mika Singh, Neha Kakkar</td>\n",
       "      <td>BollywoodDance</td>\n",
       "      <td>Simmba</td>\n",
       "      <td>8.8/10</td>\n",
       "    </tr>\n",
       "    <tr>\n",
       "      <th>1</th>\n",
       "      <td>Coca Cola</td>\n",
       "      <td>Neha Kakkar, Tony Kakkar</td>\n",
       "      <td>BollywoodDanceRomantic</td>\n",
       "      <td>Luka Chuppi</td>\n",
       "      <td>9.0/10</td>\n",
       "    </tr>\n",
       "    <tr>\n",
       "      <th>2</th>\n",
       "      <td>Apna Time Aayega</td>\n",
       "      <td>Ranveer Singh</td>\n",
       "      <td>BollywoodDance</td>\n",
       "      <td>Gully Boy</td>\n",
       "      <td>9.7/10</td>\n",
       "    </tr>\n",
       "    <tr>\n",
       "      <th>3</th>\n",
       "      <td>Mungda</td>\n",
       "      <td>Jyotica Tangri, Shaan, Subhro Ganguly</td>\n",
       "      <td>BollywoodDance</td>\n",
       "      <td>Total Dhamaal</td>\n",
       "      <td>9.1/10</td>\n",
       "    </tr>\n",
       "    <tr>\n",
       "      <th>4</th>\n",
       "      <td>Tere Bin</td>\n",
       "      <td>Asees Kaur, Rahat Fateh Ali Khan, Tanishk Bagchi</td>\n",
       "      <td>BollywoodRomantic</td>\n",
       "      <td>Simmba</td>\n",
       "      <td>9.2/10</td>\n",
       "    </tr>\n",
       "  </tbody>\n",
       "</table>\n",
       "</div>"
      ],
      "text/plain": [
       "          Song-Name                                    Singer/Artists  \\\n",
       "0       Aankh Marey               Kumar Sanu, Mika Singh, Neha Kakkar   \n",
       "1         Coca Cola                          Neha Kakkar, Tony Kakkar   \n",
       "2  Apna Time Aayega                                     Ranveer Singh   \n",
       "3            Mungda             Jyotica Tangri, Shaan, Subhro Ganguly   \n",
       "4          Tere Bin  Asees Kaur, Rahat Fateh Ali Khan, Tanishk Bagchi   \n",
       "\n",
       "                    Genre    Album/Movie User-Rating  \n",
       "0          BollywoodDance         Simmba      8.8/10  \n",
       "1  BollywoodDanceRomantic    Luka Chuppi      9.0/10  \n",
       "2          BollywoodDance      Gully Boy      9.7/10  \n",
       "3          BollywoodDance  Total Dhamaal      9.1/10  \n",
       "4       BollywoodRomantic         Simmba      9.2/10  "
      ]
     },
     "execution_count": 143,
     "metadata": {},
     "output_type": "execute_result"
    }
   ],
   "source": [
    "df.head()"
   ]
  },
  {
   "cell_type": "code",
   "execution_count": 144,
   "id": "407c0a3e",
   "metadata": {},
   "outputs": [],
   "source": [
    "df['User-Rating']=l\n",
    "df['Album/Movie']=df['Album/Movie'].str.replace(\" \",\"\")\n",
    "df['Singer/Artists']=df['Singer/Artists'].str.replace(\" \",\"\")"
   ]
  },
  {
   "cell_type": "code",
   "execution_count": 145,
   "id": "f0db6dc1",
   "metadata": {},
   "outputs": [
    {
     "data": {
      "text/html": [
       "<div>\n",
       "<style scoped>\n",
       "    .dataframe tbody tr th:only-of-type {\n",
       "        vertical-align: middle;\n",
       "    }\n",
       "\n",
       "    .dataframe tbody tr th {\n",
       "        vertical-align: top;\n",
       "    }\n",
       "\n",
       "    .dataframe thead th {\n",
       "        text-align: right;\n",
       "    }\n",
       "</style>\n",
       "<table border=\"1\" class=\"dataframe\">\n",
       "  <thead>\n",
       "    <tr style=\"text-align: right;\">\n",
       "      <th></th>\n",
       "      <th>Song-Name</th>\n",
       "      <th>Singer/Artists</th>\n",
       "      <th>Genre</th>\n",
       "      <th>Album/Movie</th>\n",
       "      <th>User-Rating</th>\n",
       "    </tr>\n",
       "  </thead>\n",
       "  <tbody>\n",
       "    <tr>\n",
       "      <th>0</th>\n",
       "      <td>Aankh Marey</td>\n",
       "      <td>KumarSanu,MikaSingh,NehaKakkar</td>\n",
       "      <td>BollywoodDance</td>\n",
       "      <td>Simmba</td>\n",
       "      <td>8.8</td>\n",
       "    </tr>\n",
       "    <tr>\n",
       "      <th>1</th>\n",
       "      <td>Coca Cola</td>\n",
       "      <td>NehaKakkar,TonyKakkar</td>\n",
       "      <td>BollywoodDanceRomantic</td>\n",
       "      <td>LukaChuppi</td>\n",
       "      <td>9.0</td>\n",
       "    </tr>\n",
       "    <tr>\n",
       "      <th>2</th>\n",
       "      <td>Apna Time Aayega</td>\n",
       "      <td>RanveerSingh</td>\n",
       "      <td>BollywoodDance</td>\n",
       "      <td>GullyBoy</td>\n",
       "      <td>9.7</td>\n",
       "    </tr>\n",
       "    <tr>\n",
       "      <th>3</th>\n",
       "      <td>Mungda</td>\n",
       "      <td>JyoticaTangri,Shaan,SubhroGanguly</td>\n",
       "      <td>BollywoodDance</td>\n",
       "      <td>TotalDhamaal</td>\n",
       "      <td>9.1</td>\n",
       "    </tr>\n",
       "    <tr>\n",
       "      <th>4</th>\n",
       "      <td>Tere Bin</td>\n",
       "      <td>AseesKaur,RahatFatehAliKhan,TanishkBagchi</td>\n",
       "      <td>BollywoodRomantic</td>\n",
       "      <td>Simmba</td>\n",
       "      <td>9.2</td>\n",
       "    </tr>\n",
       "  </tbody>\n",
       "</table>\n",
       "</div>"
      ],
      "text/plain": [
       "          Song-Name                             Singer/Artists  \\\n",
       "0       Aankh Marey             KumarSanu,MikaSingh,NehaKakkar   \n",
       "1         Coca Cola                      NehaKakkar,TonyKakkar   \n",
       "2  Apna Time Aayega                               RanveerSingh   \n",
       "3            Mungda          JyoticaTangri,Shaan,SubhroGanguly   \n",
       "4          Tere Bin  AseesKaur,RahatFatehAliKhan,TanishkBagchi   \n",
       "\n",
       "                    Genre   Album/Movie User-Rating  \n",
       "0          BollywoodDance        Simmba         8.8  \n",
       "1  BollywoodDanceRomantic    LukaChuppi         9.0  \n",
       "2          BollywoodDance      GullyBoy         9.7  \n",
       "3          BollywoodDance  TotalDhamaal         9.1  \n",
       "4       BollywoodRomantic        Simmba         9.2  "
      ]
     },
     "execution_count": 145,
     "metadata": {},
     "output_type": "execute_result"
    }
   ],
   "source": [
    "df.head()"
   ]
  },
  {
   "cell_type": "code",
   "execution_count": 146,
   "id": "ddac2f1f",
   "metadata": {},
   "outputs": [],
   "source": [
    "df['tags']=df['Song-Name'] + df['Singer/Artists'] + df['Genre'] + df['Album/Movie'] + df['User-Rating']"
   ]
  },
  {
   "cell_type": "code",
   "execution_count": 147,
   "id": "cd4ecf7f",
   "metadata": {},
   "outputs": [
    {
     "data": {
      "text/html": [
       "<div>\n",
       "<style scoped>\n",
       "    .dataframe tbody tr th:only-of-type {\n",
       "        vertical-align: middle;\n",
       "    }\n",
       "\n",
       "    .dataframe tbody tr th {\n",
       "        vertical-align: top;\n",
       "    }\n",
       "\n",
       "    .dataframe thead th {\n",
       "        text-align: right;\n",
       "    }\n",
       "</style>\n",
       "<table border=\"1\" class=\"dataframe\">\n",
       "  <thead>\n",
       "    <tr style=\"text-align: right;\">\n",
       "      <th></th>\n",
       "      <th>Song-Name</th>\n",
       "      <th>Singer/Artists</th>\n",
       "      <th>Genre</th>\n",
       "      <th>Album/Movie</th>\n",
       "      <th>User-Rating</th>\n",
       "      <th>tags</th>\n",
       "    </tr>\n",
       "  </thead>\n",
       "  <tbody>\n",
       "    <tr>\n",
       "      <th>0</th>\n",
       "      <td>Aankh Marey</td>\n",
       "      <td>KumarSanu,MikaSingh,NehaKakkar</td>\n",
       "      <td>BollywoodDance</td>\n",
       "      <td>Simmba</td>\n",
       "      <td>8.8</td>\n",
       "      <td>Aankh MareyKumarSanu,MikaSingh,NehaKakkarBolly...</td>\n",
       "    </tr>\n",
       "    <tr>\n",
       "      <th>1</th>\n",
       "      <td>Coca Cola</td>\n",
       "      <td>NehaKakkar,TonyKakkar</td>\n",
       "      <td>BollywoodDanceRomantic</td>\n",
       "      <td>LukaChuppi</td>\n",
       "      <td>9.0</td>\n",
       "      <td>Coca ColaNehaKakkar,TonyKakkarBollywoodDanceRo...</td>\n",
       "    </tr>\n",
       "    <tr>\n",
       "      <th>2</th>\n",
       "      <td>Apna Time Aayega</td>\n",
       "      <td>RanveerSingh</td>\n",
       "      <td>BollywoodDance</td>\n",
       "      <td>GullyBoy</td>\n",
       "      <td>9.7</td>\n",
       "      <td>Apna Time AayegaRanveerSinghBollywoodDanceGull...</td>\n",
       "    </tr>\n",
       "    <tr>\n",
       "      <th>3</th>\n",
       "      <td>Mungda</td>\n",
       "      <td>JyoticaTangri,Shaan,SubhroGanguly</td>\n",
       "      <td>BollywoodDance</td>\n",
       "      <td>TotalDhamaal</td>\n",
       "      <td>9.1</td>\n",
       "      <td>MungdaJyoticaTangri,Shaan,SubhroGangulyBollywo...</td>\n",
       "    </tr>\n",
       "    <tr>\n",
       "      <th>4</th>\n",
       "      <td>Tere Bin</td>\n",
       "      <td>AseesKaur,RahatFatehAliKhan,TanishkBagchi</td>\n",
       "      <td>BollywoodRomantic</td>\n",
       "      <td>Simmba</td>\n",
       "      <td>9.2</td>\n",
       "      <td>Tere BinAseesKaur,RahatFatehAliKhan,TanishkBag...</td>\n",
       "    </tr>\n",
       "  </tbody>\n",
       "</table>\n",
       "</div>"
      ],
      "text/plain": [
       "          Song-Name                             Singer/Artists  \\\n",
       "0       Aankh Marey             KumarSanu,MikaSingh,NehaKakkar   \n",
       "1         Coca Cola                      NehaKakkar,TonyKakkar   \n",
       "2  Apna Time Aayega                               RanveerSingh   \n",
       "3            Mungda          JyoticaTangri,Shaan,SubhroGanguly   \n",
       "4          Tere Bin  AseesKaur,RahatFatehAliKhan,TanishkBagchi   \n",
       "\n",
       "                    Genre   Album/Movie User-Rating  \\\n",
       "0          BollywoodDance        Simmba         8.8   \n",
       "1  BollywoodDanceRomantic    LukaChuppi         9.0   \n",
       "2          BollywoodDance      GullyBoy         9.7   \n",
       "3          BollywoodDance  TotalDhamaal         9.1   \n",
       "4       BollywoodRomantic        Simmba         9.2   \n",
       "\n",
       "                                                tags  \n",
       "0  Aankh MareyKumarSanu,MikaSingh,NehaKakkarBolly...  \n",
       "1  Coca ColaNehaKakkar,TonyKakkarBollywoodDanceRo...  \n",
       "2  Apna Time AayegaRanveerSinghBollywoodDanceGull...  \n",
       "3  MungdaJyoticaTangri,Shaan,SubhroGangulyBollywo...  \n",
       "4  Tere BinAseesKaur,RahatFatehAliKhan,TanishkBag...  "
      ]
     },
     "execution_count": 147,
     "metadata": {},
     "output_type": "execute_result"
    }
   ],
   "source": [
    "df.head()"
   ]
  },
  {
   "cell_type": "code",
   "execution_count": 148,
   "id": "13bcd80b",
   "metadata": {},
   "outputs": [],
   "source": [
    "ndf=df[['Song-Name','Album/Movie','tags']]"
   ]
  },
  {
   "cell_type": "code",
   "execution_count": 149,
   "id": "3d5c056b",
   "metadata": {},
   "outputs": [
    {
     "data": {
      "text/html": [
       "<div>\n",
       "<style scoped>\n",
       "    .dataframe tbody tr th:only-of-type {\n",
       "        vertical-align: middle;\n",
       "    }\n",
       "\n",
       "    .dataframe tbody tr th {\n",
       "        vertical-align: top;\n",
       "    }\n",
       "\n",
       "    .dataframe thead th {\n",
       "        text-align: right;\n",
       "    }\n",
       "</style>\n",
       "<table border=\"1\" class=\"dataframe\">\n",
       "  <thead>\n",
       "    <tr style=\"text-align: right;\">\n",
       "      <th></th>\n",
       "      <th>Song-Name</th>\n",
       "      <th>Album/Movie</th>\n",
       "      <th>tags</th>\n",
       "    </tr>\n",
       "  </thead>\n",
       "  <tbody>\n",
       "    <tr>\n",
       "      <th>0</th>\n",
       "      <td>Aankh Marey</td>\n",
       "      <td>Simmba</td>\n",
       "      <td>Aankh MareyKumarSanu,MikaSingh,NehaKakkarBolly...</td>\n",
       "    </tr>\n",
       "    <tr>\n",
       "      <th>1</th>\n",
       "      <td>Coca Cola</td>\n",
       "      <td>LukaChuppi</td>\n",
       "      <td>Coca ColaNehaKakkar,TonyKakkarBollywoodDanceRo...</td>\n",
       "    </tr>\n",
       "    <tr>\n",
       "      <th>2</th>\n",
       "      <td>Apna Time Aayega</td>\n",
       "      <td>GullyBoy</td>\n",
       "      <td>Apna Time AayegaRanveerSinghBollywoodDanceGull...</td>\n",
       "    </tr>\n",
       "    <tr>\n",
       "      <th>3</th>\n",
       "      <td>Mungda</td>\n",
       "      <td>TotalDhamaal</td>\n",
       "      <td>MungdaJyoticaTangri,Shaan,SubhroGangulyBollywo...</td>\n",
       "    </tr>\n",
       "    <tr>\n",
       "      <th>4</th>\n",
       "      <td>Tere Bin</td>\n",
       "      <td>Simmba</td>\n",
       "      <td>Tere BinAseesKaur,RahatFatehAliKhan,TanishkBag...</td>\n",
       "    </tr>\n",
       "    <tr>\n",
       "      <th>...</th>\n",
       "      <td>...</td>\n",
       "      <td>...</td>\n",
       "      <td>...</td>\n",
       "    </tr>\n",
       "    <tr>\n",
       "      <th>2415</th>\n",
       "      <td>Jana Tumhare Pyar Mein</td>\n",
       "      <td>Sasural</td>\n",
       "      <td>Jana Tumhare Pyar MeinMukeshBollywoodDanceSasu...</td>\n",
       "    </tr>\n",
       "    <tr>\n",
       "      <th>2416</th>\n",
       "      <td>Tum Jaise Bigde Babu Se</td>\n",
       "      <td>JabPyarKisiSeHotaHai</td>\n",
       "      <td>Tum Jaise Bigde Babu SeLataMangeshkarBollywood...</td>\n",
       "    </tr>\n",
       "    <tr>\n",
       "      <th>2417</th>\n",
       "      <td>O Yaad Nahi Bhool Gaya</td>\n",
       "      <td>Lamhe</td>\n",
       "      <td>O Yaad Nahi Bhool GayaLataMangeshkar,SureshWad...</td>\n",
       "    </tr>\n",
       "    <tr>\n",
       "      <th>2418</th>\n",
       "      <td>Ladi Re Ladi Tujhse Aankh Jo Ladi</td>\n",
       "      <td>SholaAurShabnam</td>\n",
       "      <td>Ladi Re Ladi Tujhse Aankh Jo LadiJagjitKaurBol...</td>\n",
       "    </tr>\n",
       "    <tr>\n",
       "      <th>2419</th>\n",
       "      <td>Mummy Aur Daddy Mein Ladai Ho Gayi</td>\n",
       "      <td>SholaAurShabnam</td>\n",
       "      <td>Mummy Aur Daddy Mein Ladai Ho GayiAshaBhosleBo...</td>\n",
       "    </tr>\n",
       "  </tbody>\n",
       "</table>\n",
       "<p>2391 rows × 3 columns</p>\n",
       "</div>"
      ],
      "text/plain": [
       "                               Song-Name           Album/Movie  \\\n",
       "0                            Aankh Marey                Simmba   \n",
       "1                              Coca Cola            LukaChuppi   \n",
       "2                       Apna Time Aayega              GullyBoy   \n",
       "3                                 Mungda          TotalDhamaal   \n",
       "4                               Tere Bin                Simmba   \n",
       "...                                  ...                   ...   \n",
       "2415              Jana Tumhare Pyar Mein               Sasural   \n",
       "2416             Tum Jaise Bigde Babu Se  JabPyarKisiSeHotaHai   \n",
       "2417              O Yaad Nahi Bhool Gaya                 Lamhe   \n",
       "2418   Ladi Re Ladi Tujhse Aankh Jo Ladi       SholaAurShabnam   \n",
       "2419  Mummy Aur Daddy Mein Ladai Ho Gayi       SholaAurShabnam   \n",
       "\n",
       "                                                   tags  \n",
       "0     Aankh MareyKumarSanu,MikaSingh,NehaKakkarBolly...  \n",
       "1     Coca ColaNehaKakkar,TonyKakkarBollywoodDanceRo...  \n",
       "2     Apna Time AayegaRanveerSinghBollywoodDanceGull...  \n",
       "3     MungdaJyoticaTangri,Shaan,SubhroGangulyBollywo...  \n",
       "4     Tere BinAseesKaur,RahatFatehAliKhan,TanishkBag...  \n",
       "...                                                 ...  \n",
       "2415  Jana Tumhare Pyar MeinMukeshBollywoodDanceSasu...  \n",
       "2416  Tum Jaise Bigde Babu SeLataMangeshkarBollywood...  \n",
       "2417  O Yaad Nahi Bhool GayaLataMangeshkar,SureshWad...  \n",
       "2418  Ladi Re Ladi Tujhse Aankh Jo LadiJagjitKaurBol...  \n",
       "2419  Mummy Aur Daddy Mein Ladai Ho GayiAshaBhosleBo...  \n",
       "\n",
       "[2391 rows x 3 columns]"
      ]
     },
     "execution_count": 149,
     "metadata": {},
     "output_type": "execute_result"
    }
   ],
   "source": [
    "ndf"
   ]
  },
  {
   "cell_type": "code",
   "execution_count": 150,
   "id": "2f583cf8",
   "metadata": {},
   "outputs": [
    {
     "data": {
      "text/plain": [
       "'Aankh MareyKumarSanu,MikaSingh,NehaKakkarBollywoodDanceSimmba8.8'"
      ]
     },
     "execution_count": 150,
     "metadata": {},
     "output_type": "execute_result"
    }
   ],
   "source": [
    "ndf['tags'][0]"
   ]
  },
  {
   "cell_type": "code",
   "execution_count": 151,
   "id": "6e086d07",
   "metadata": {},
   "outputs": [
    {
     "name": "stderr",
     "output_type": "stream",
     "text": [
      "C:\\Users\\91831\\AppData\\Local\\Temp\\ipykernel_2996\\2135130794.py:1: SettingWithCopyWarning: \n",
      "A value is trying to be set on a copy of a slice from a DataFrame.\n",
      "Try using .loc[row_indexer,col_indexer] = value instead\n",
      "\n",
      "See the caveats in the documentation: https://pandas.pydata.org/pandas-docs/stable/user_guide/indexing.html#returning-a-view-versus-a-copy\n",
      "  ndf['tags']=ndf['tags'].apply(lambda x:x.lower())\n"
     ]
    }
   ],
   "source": [
    "ndf['tags']=ndf['tags'].apply(lambda x:x.lower())"
   ]
  },
  {
   "cell_type": "code",
   "execution_count": 152,
   "id": "05f7e1c5",
   "metadata": {},
   "outputs": [
    {
     "data": {
      "text/html": [
       "<div>\n",
       "<style scoped>\n",
       "    .dataframe tbody tr th:only-of-type {\n",
       "        vertical-align: middle;\n",
       "    }\n",
       "\n",
       "    .dataframe tbody tr th {\n",
       "        vertical-align: top;\n",
       "    }\n",
       "\n",
       "    .dataframe thead th {\n",
       "        text-align: right;\n",
       "    }\n",
       "</style>\n",
       "<table border=\"1\" class=\"dataframe\">\n",
       "  <thead>\n",
       "    <tr style=\"text-align: right;\">\n",
       "      <th></th>\n",
       "      <th>Song-Name</th>\n",
       "      <th>Album/Movie</th>\n",
       "      <th>tags</th>\n",
       "    </tr>\n",
       "  </thead>\n",
       "  <tbody>\n",
       "    <tr>\n",
       "      <th>0</th>\n",
       "      <td>Aankh Marey</td>\n",
       "      <td>Simmba</td>\n",
       "      <td>aankh mareykumarsanu,mikasingh,nehakakkarbolly...</td>\n",
       "    </tr>\n",
       "    <tr>\n",
       "      <th>1</th>\n",
       "      <td>Coca Cola</td>\n",
       "      <td>LukaChuppi</td>\n",
       "      <td>coca colanehakakkar,tonykakkarbollywooddancero...</td>\n",
       "    </tr>\n",
       "    <tr>\n",
       "      <th>2</th>\n",
       "      <td>Apna Time Aayega</td>\n",
       "      <td>GullyBoy</td>\n",
       "      <td>apna time aayegaranveersinghbollywooddancegull...</td>\n",
       "    </tr>\n",
       "    <tr>\n",
       "      <th>3</th>\n",
       "      <td>Mungda</td>\n",
       "      <td>TotalDhamaal</td>\n",
       "      <td>mungdajyoticatangri,shaan,subhrogangulybollywo...</td>\n",
       "    </tr>\n",
       "    <tr>\n",
       "      <th>4</th>\n",
       "      <td>Tere Bin</td>\n",
       "      <td>Simmba</td>\n",
       "      <td>tere binaseeskaur,rahatfatehalikhan,tanishkbag...</td>\n",
       "    </tr>\n",
       "  </tbody>\n",
       "</table>\n",
       "</div>"
      ],
      "text/plain": [
       "          Song-Name   Album/Movie  \\\n",
       "0       Aankh Marey        Simmba   \n",
       "1         Coca Cola    LukaChuppi   \n",
       "2  Apna Time Aayega      GullyBoy   \n",
       "3            Mungda  TotalDhamaal   \n",
       "4          Tere Bin        Simmba   \n",
       "\n",
       "                                                tags  \n",
       "0  aankh mareykumarsanu,mikasingh,nehakakkarbolly...  \n",
       "1  coca colanehakakkar,tonykakkarbollywooddancero...  \n",
       "2  apna time aayegaranveersinghbollywooddancegull...  \n",
       "3  mungdajyoticatangri,shaan,subhrogangulybollywo...  \n",
       "4  tere binaseeskaur,rahatfatehalikhan,tanishkbag...  "
      ]
     },
     "execution_count": 152,
     "metadata": {},
     "output_type": "execute_result"
    }
   ],
   "source": [
    "ndf.head()"
   ]
  },
  {
   "cell_type": "code",
   "execution_count": 153,
   "id": "11b5e820",
   "metadata": {},
   "outputs": [
    {
     "name": "stdout",
     "output_type": "stream",
     "text": [
      "Requirement already satisfied: nltk in c:\\users\\91831\\anaconda3\\lib\\site-packages (3.8.1)\n",
      "Requirement already satisfied: click in c:\\users\\91831\\anaconda3\\lib\\site-packages (from nltk) (8.0.4)\n",
      "Requirement already satisfied: joblib in c:\\users\\91831\\anaconda3\\lib\\site-packages (from nltk) (1.2.0)\n",
      "Requirement already satisfied: regex>=2021.8.3 in c:\\users\\91831\\anaconda3\\lib\\site-packages (from nltk) (2022.7.9)\n",
      "Requirement already satisfied: tqdm in c:\\users\\91831\\anaconda3\\lib\\site-packages (from nltk) (4.65.0)\n",
      "Requirement already satisfied: colorama in c:\\users\\91831\\anaconda3\\lib\\site-packages (from click->nltk) (0.4.6)\n"
     ]
    }
   ],
   "source": [
    "! pip install nltk\n"
   ]
  },
  {
   "cell_type": "code",
   "execution_count": 154,
   "id": "bcaf57cc",
   "metadata": {},
   "outputs": [
    {
     "name": "stderr",
     "output_type": "stream",
     "text": [
      "[nltk_data] Downloading package punkt to\n",
      "[nltk_data]     C:\\Users\\91831\\AppData\\Roaming\\nltk_data...\n",
      "[nltk_data]   Package punkt is already up-to-date!\n"
     ]
    },
    {
     "data": {
      "text/plain": [
       "0       aankh mareykumarsanu,mikasingh,nehakakkarbolly...\n",
       "1       coca colanehakakkar,tonykakkarbollywooddancero...\n",
       "2       apna time aayegaranveersinghbollywooddancegull...\n",
       "3       mungdajyoticatangri,shaan,subhrogangulybollywo...\n",
       "4       tere binaseeskaur,rahatfatehalikhan,tanishkbag...\n",
       "                              ...                        \n",
       "2415    jana tumhar pyar meinmukeshbollywooddancesasur...\n",
       "2416    tum jais bigd babu selatamangeshkarbollywoodda...\n",
       "2417    o yaad nahi bhool gayalatamangeshkar,sureshwad...\n",
       "2418    ladi re ladi tujhs aankh jo ladijagjitkaurboll...\n",
       "2419    mummi aur daddi mein ladai ho gayiashabhoslebo...\n",
       "Name: tags, Length: 2391, dtype: object"
      ]
     },
     "execution_count": 154,
     "metadata": {},
     "output_type": "execute_result"
    }
   ],
   "source": [
    "import nltk\n",
    "from nltk.stem import PorterStemmer\n",
    "nltk.download('punkt')  # If you haven't downloaded the punkt tokenizer before\n",
    "\n",
    "# Initialize the stemmer\n",
    "ps = PorterStemmer()\n",
    "\n",
    "# Define the stem function\n",
    "def stem(text):\n",
    "    y = []\n",
    "    for i in text.split():\n",
    "        y.append(ps.stem(i))\n",
    "    return \" \".join(y)\n",
    "\n",
    "# Now you can use the stem function\n",
    "ndf['tags'].apply(stem)"
   ]
  },
  {
   "cell_type": "code",
   "execution_count": 155,
   "id": "9b490079",
   "metadata": {},
   "outputs": [
    {
     "name": "stderr",
     "output_type": "stream",
     "text": [
      "C:\\Users\\91831\\AppData\\Local\\Temp\\ipykernel_2996\\2121239825.py:1: SettingWithCopyWarning: \n",
      "A value is trying to be set on a copy of a slice from a DataFrame.\n",
      "Try using .loc[row_indexer,col_indexer] = value instead\n",
      "\n",
      "See the caveats in the documentation: https://pandas.pydata.org/pandas-docs/stable/user_guide/indexing.html#returning-a-view-versus-a-copy\n",
      "  ndf['tags']=ndf['tags'].apply(stem)\n"
     ]
    }
   ],
   "source": [
    "ndf['tags']=ndf['tags'].apply(stem)"
   ]
  },
  {
   "cell_type": "code",
   "execution_count": null,
   "id": "8e8b4702",
   "metadata": {},
   "outputs": [],
   "source": []
  },
  {
   "cell_type": "code",
   "execution_count": null,
   "id": "94831e99",
   "metadata": {},
   "outputs": [],
   "source": []
  },
  {
   "cell_type": "code",
   "execution_count": 156,
   "id": "12661c7a",
   "metadata": {},
   "outputs": [
    {
     "ename": "NameError",
     "evalue": "name 'Countvectorizer' is not defined",
     "output_type": "error",
     "traceback": [
      "\u001b[1;31m---------------------------------------------------------------------------\u001b[0m",
      "\u001b[1;31mNameError\u001b[0m                                 Traceback (most recent call last)",
      "Cell \u001b[1;32mIn[156], line 2\u001b[0m\n\u001b[0;32m      1\u001b[0m \u001b[38;5;28;01mfrom\u001b[39;00m \u001b[38;5;21;01msklearn\u001b[39;00m\u001b[38;5;21;01m.\u001b[39;00m\u001b[38;5;21;01mfeature_extraction\u001b[39;00m\u001b[38;5;21;01m.\u001b[39;00m\u001b[38;5;21;01mtext\u001b[39;00m \u001b[38;5;28;01mimport\u001b[39;00m CountVectorizer\n\u001b[1;32m----> 2\u001b[0m cv \u001b[38;5;241m=\u001b[39m Countvectorizer(max_features\u001b[38;5;241m=\u001b[39m\u001b[38;5;241m2391\u001b[39m,stop_words\u001b[38;5;241m=\u001b[39m\u001b[38;5;124m'\u001b[39m\u001b[38;5;124menglish\u001b[39m\u001b[38;5;124m'\u001b[39m)\n",
      "\u001b[1;31mNameError\u001b[0m: name 'Countvectorizer' is not defined"
     ]
    }
   ],
   "source": [
    "from sklearn.feature_extraction.text import CountVectorizer\n",
    "cv = Countvectorizer(max_features=2391,stop_words='english')"
   ]
  },
  {
   "cell_type": "code",
   "execution_count": null,
   "id": "667f2e89",
   "metadata": {},
   "outputs": [],
   "source": [
    "cv.fit_transform(ddf['tags']).toarray().shape"
   ]
  },
  {
   "cell_type": "code",
   "execution_count": null,
   "id": "6bf83bbb",
   "metadata": {},
   "outputs": [],
   "source": [
    "from sklearn.feature_extraction.text import CountVectorizer\n",
    "cv = CountVectorizer(max_features=2391,stop_words='english')"
   ]
  },
  {
   "cell_type": "code",
   "execution_count": null,
   "id": "e8ec9ca1",
   "metadata": {},
   "outputs": [],
   "source": [
    "vector = cv.fit_transform(ndf['tags']).toarray()"
   ]
  },
  {
   "cell_type": "code",
   "execution_count": null,
   "id": "f3fda9f4",
   "metadata": {},
   "outputs": [],
   "source": [
    "vector.shape"
   ]
  },
  {
   "cell_type": "code",
   "execution_count": 157,
   "id": "d1c740e6",
   "metadata": {},
   "outputs": [
    {
     "data": {
      "text/plain": [
       "array([[0, 0, 0, ..., 0, 0, 0],\n",
       "       [0, 0, 0, ..., 0, 0, 0],\n",
       "       [0, 0, 0, ..., 0, 0, 0],\n",
       "       ...,\n",
       "       [0, 0, 0, ..., 0, 0, 0],\n",
       "       [0, 0, 0, ..., 0, 0, 0],\n",
       "       [0, 0, 0, ..., 0, 0, 0]], dtype=int64)"
      ]
     },
     "execution_count": 157,
     "metadata": {},
     "output_type": "execute_result"
    }
   ],
   "source": [
    "vector"
   ]
  },
  {
   "cell_type": "code",
   "execution_count": 158,
   "id": "974dee61",
   "metadata": {},
   "outputs": [
    {
     "data": {
      "text/plain": [
       "array([0, 0, 0, ..., 0, 0, 0], dtype=int64)"
      ]
     },
     "execution_count": 158,
     "metadata": {},
     "output_type": "execute_result"
    }
   ],
   "source": [
    "vector[0]"
   ]
  },
  {
   "cell_type": "code",
   "execution_count": 159,
   "id": "ba56b4ca",
   "metadata": {},
   "outputs": [
    {
     "name": "stdout",
     "output_type": "stream",
     "text": [
      "['18' '19' '69' ... 'zuke' 'zulf' 'zulfa']\n"
     ]
    }
   ],
   "source": [
    "feature_names = cv.get_feature_names_out()\n",
    "print(feature_names)"
   ]
  },
  {
   "cell_type": "code",
   "execution_count": 160,
   "id": "0a439e94",
   "metadata": {},
   "outputs": [],
   "source": [
    "from sklearn.metrics.pairwise import cosine_similarity"
   ]
  },
  {
   "cell_type": "code",
   "execution_count": 161,
   "id": "39053d93",
   "metadata": {},
   "outputs": [],
   "source": [
    "similarity=cosine_similarity(vector)"
   ]
  },
  {
   "cell_type": "code",
   "execution_count": 162,
   "id": "8b587e0d",
   "metadata": {},
   "outputs": [
    {
     "data": {
      "text/plain": [
       "[(449, 0.5773502691896258),\n",
       " (607, 0.3333333333333334),\n",
       " (848, 0.3333333333333334),\n",
       " (1033, 0.2886751345948129),\n",
       " (1128, 0.2357022603955159)]"
      ]
     },
     "execution_count": 162,
     "metadata": {},
     "output_type": "execute_result"
    }
   ],
   "source": [
    "sorted(list(enumerate(similarity[0])),reverse=True,key= lambda x:x[1])[1:6]"
   ]
  },
  {
   "cell_type": "code",
   "execution_count": 163,
   "id": "2c375086",
   "metadata": {},
   "outputs": [
    {
     "data": {
      "text/html": [
       "<div>\n",
       "<style scoped>\n",
       "    .dataframe tbody tr th:only-of-type {\n",
       "        vertical-align: middle;\n",
       "    }\n",
       "\n",
       "    .dataframe tbody tr th {\n",
       "        vertical-align: top;\n",
       "    }\n",
       "\n",
       "    .dataframe thead th {\n",
       "        text-align: right;\n",
       "    }\n",
       "</style>\n",
       "<table border=\"1\" class=\"dataframe\">\n",
       "  <thead>\n",
       "    <tr style=\"text-align: right;\">\n",
       "      <th></th>\n",
       "      <th>Song-Name</th>\n",
       "      <th>Album/Movie</th>\n",
       "      <th>tags</th>\n",
       "    </tr>\n",
       "  </thead>\n",
       "  <tbody>\n",
       "    <tr>\n",
       "      <th>0</th>\n",
       "      <td>Aankh Marey</td>\n",
       "      <td>Simmba</td>\n",
       "      <td>aankh mareykumarsanu,mikasingh,nehakakkarbolly...</td>\n",
       "    </tr>\n",
       "    <tr>\n",
       "      <th>1</th>\n",
       "      <td>Coca Cola</td>\n",
       "      <td>LukaChuppi</td>\n",
       "      <td>coca colanehakakkar,tonykakkarbollywooddancero...</td>\n",
       "    </tr>\n",
       "    <tr>\n",
       "      <th>2</th>\n",
       "      <td>Apna Time Aayega</td>\n",
       "      <td>GullyBoy</td>\n",
       "      <td>apna time aayegaranveersinghbollywooddancegull...</td>\n",
       "    </tr>\n",
       "    <tr>\n",
       "      <th>3</th>\n",
       "      <td>Mungda</td>\n",
       "      <td>TotalDhamaal</td>\n",
       "      <td>mungdajyoticatangri,shaan,subhrogangulybollywo...</td>\n",
       "    </tr>\n",
       "    <tr>\n",
       "      <th>4</th>\n",
       "      <td>Tere Bin</td>\n",
       "      <td>Simmba</td>\n",
       "      <td>tere binaseeskaur,rahatfatehalikhan,tanishkbag...</td>\n",
       "    </tr>\n",
       "  </tbody>\n",
       "</table>\n",
       "</div>"
      ],
      "text/plain": [
       "          Song-Name   Album/Movie  \\\n",
       "0       Aankh Marey        Simmba   \n",
       "1         Coca Cola    LukaChuppi   \n",
       "2  Apna Time Aayega      GullyBoy   \n",
       "3            Mungda  TotalDhamaal   \n",
       "4          Tere Bin        Simmba   \n",
       "\n",
       "                                                tags  \n",
       "0  aankh mareykumarsanu,mikasingh,nehakakkarbolly...  \n",
       "1  coca colanehakakkar,tonykakkarbollywooddancero...  \n",
       "2  apna time aayegaranveersinghbollywooddancegull...  \n",
       "3  mungdajyoticatangri,shaan,subhrogangulybollywo...  \n",
       "4  tere binaseeskaur,rahatfatehalikhan,tanishkbag...  "
      ]
     },
     "execution_count": 163,
     "metadata": {},
     "output_type": "execute_result"
    }
   ],
   "source": [
    "ndf.head()"
   ]
  },
  {
   "cell_type": "code",
   "execution_count": 164,
   "id": "12964245",
   "metadata": {},
   "outputs": [
    {
     "data": {
      "text/plain": [
       "4"
      ]
     },
     "execution_count": 164,
     "metadata": {},
     "output_type": "execute_result"
    }
   ],
   "source": [
    "ndf[ndf['Song-Name'] == 'Tere Bin'].index[0]"
   ]
  },
  {
   "cell_type": "code",
   "execution_count": 165,
   "id": "bba587ab",
   "metadata": {},
   "outputs": [],
   "source": [
    "def recommend(song):\n",
    "    song_index = ndf[ndf['Song-Name'] == song].index\n",
    "    if len(song_index) == 0:\n",
    "        print(\"Song not found in dataset.\")\n",
    "        return\n",
    "    song_index = song_index[0]\n",
    "    distance = similarity[song_index]\n",
    "    song_list = sorted(list(enumerate(distance)), reverse=True, key=lambda x: x[1])[1:6]\n",
    "    \n",
    "    for i in song_list:\n",
    "       \n",
    "        song_name = ndf.iloc[i[0]]['Song-Name']\n",
    "        print(song_name)\n",
    "        print(i[0])"
   ]
  },
  {
   "cell_type": "code",
   "execution_count": 168,
   "id": "62bc857f",
   "metadata": {},
   "outputs": [
    {
     "name": "stdout",
     "output_type": "stream",
     "text": [
      "Laila\n",
      "449\n",
      "Aapka Kya Hoga\n",
      "607\n",
      "Tooh\n",
      "848\n",
      "Taang Uthake\n",
      "1033\n",
      "Rani Tu Mein Raja (\n",
      "1128\n"
     ]
    }
   ],
   "source": [
    "recommend('Aankh Marey')"
   ]
  },
  {
   "cell_type": "code",
   "execution_count": null,
   "id": "8d5fa3b4",
   "metadata": {},
   "outputs": [],
   "source": []
  }
 ],
 "metadata": {
  "kernelspec": {
   "display_name": "Python 3 (ipykernel)",
   "language": "python",
   "name": "python3"
  },
  "language_info": {
   "codemirror_mode": {
    "name": "ipython",
    "version": 3
   },
   "file_extension": ".py",
   "mimetype": "text/x-python",
   "name": "python",
   "nbconvert_exporter": "python",
   "pygments_lexer": "ipython3",
   "version": "3.11.4"
  }
 },
 "nbformat": 4,
 "nbformat_minor": 5
}
