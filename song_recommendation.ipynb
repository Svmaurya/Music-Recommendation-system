{
  "cells": [
    {
      "cell_type": "markdown",
      "metadata": {
        "id": "view-in-github",
        "colab_type": "text"
      },
      "source": [
        "<a href=\"https://colab.research.google.com/github/Svmaurya/Music-Recommendation-system/blob/main/song_recommendation.ipynb\" target=\"_parent\"><img src=\"https://colab.research.google.com/assets/colab-badge.svg\" alt=\"Open In Colab\"/></a>"
      ]
    },
    {
      "cell_type": "code",
      "execution_count": null,
      "id": "aa20c521",
      "metadata": {
        "id": "aa20c521"
      },
      "outputs": [],
      "source": [
        "import numpy as np\n",
        "import pandas as pd"
      ]
    },
    {
      "cell_type": "code",
      "execution_count": null,
      "id": "eb25c68a",
      "metadata": {
        "id": "eb25c68a"
      },
      "outputs": [],
      "source": [
        "df=pd.read_csv('ex.csv')"
      ]
    },
    {
      "cell_type": "code",
      "execution_count": null,
      "id": "82125666",
      "metadata": {
        "id": "82125666",
        "outputId": "07a7709f-2ea8-4293-c58e-a68e2773299d"
      },
      "outputs": [
        {
          "data": {
            "text/html": [
              "<div>\n",
              "<style scoped>\n",
              "    .dataframe tbody tr th:only-of-type {\n",
              "        vertical-align: middle;\n",
              "    }\n",
              "\n",
              "    .dataframe tbody tr th {\n",
              "        vertical-align: top;\n",
              "    }\n",
              "\n",
              "    .dataframe thead th {\n",
              "        text-align: right;\n",
              "    }\n",
              "</style>\n",
              "<table border=\"1\" class=\"dataframe\">\n",
              "  <thead>\n",
              "    <tr style=\"text-align: right;\">\n",
              "      <th></th>\n",
              "      <th>Song-Name</th>\n",
              "      <th>Singer/Artists</th>\n",
              "      <th>Genre</th>\n",
              "      <th>Album/Movie</th>\n",
              "      <th>User-Rating</th>\n",
              "    </tr>\n",
              "  </thead>\n",
              "  <tbody>\n",
              "    <tr>\n",
              "      <th>0</th>\n",
              "      <td>Aankh Marey</td>\n",
              "      <td>Kumar Sanu, Mika Singh, Neha Kakkar</td>\n",
              "      <td>BollywoodDance</td>\n",
              "      <td>Simmba</td>\n",
              "      <td>8.8/10</td>\n",
              "    </tr>\n",
              "    <tr>\n",
              "      <th>1</th>\n",
              "      <td>Coca Cola</td>\n",
              "      <td>Neha Kakkar, Tony Kakkar</td>\n",
              "      <td>BollywoodDanceRomantic</td>\n",
              "      <td>Luka Chuppi</td>\n",
              "      <td>9.0/10</td>\n",
              "    </tr>\n",
              "    <tr>\n",
              "      <th>2</th>\n",
              "      <td>Apna Time Aayega</td>\n",
              "      <td>Ranveer Singh</td>\n",
              "      <td>BollywoodDance</td>\n",
              "      <td>Gully Boy</td>\n",
              "      <td>9.7/10</td>\n",
              "    </tr>\n",
              "    <tr>\n",
              "      <th>3</th>\n",
              "      <td>Mungda</td>\n",
              "      <td>Jyotica Tangri, Shaan, Subhro Ganguly</td>\n",
              "      <td>BollywoodDance</td>\n",
              "      <td>Total Dhamaal</td>\n",
              "      <td>9.1/10</td>\n",
              "    </tr>\n",
              "    <tr>\n",
              "      <th>4</th>\n",
              "      <td>Tere Bin</td>\n",
              "      <td>Asees Kaur, Rahat Fateh Ali Khan, Tanishk Bagchi</td>\n",
              "      <td>BollywoodRomantic</td>\n",
              "      <td>Simmba</td>\n",
              "      <td>9.2/10</td>\n",
              "    </tr>\n",
              "  </tbody>\n",
              "</table>\n",
              "</div>"
            ],
            "text/plain": [
              "          Song-Name                                    Singer/Artists  \\\n",
              "0       Aankh Marey               Kumar Sanu, Mika Singh, Neha Kakkar   \n",
              "1         Coca Cola                          Neha Kakkar, Tony Kakkar   \n",
              "2  Apna Time Aayega                                     Ranveer Singh   \n",
              "3            Mungda             Jyotica Tangri, Shaan, Subhro Ganguly   \n",
              "4          Tere Bin  Asees Kaur, Rahat Fateh Ali Khan, Tanishk Bagchi   \n",
              "\n",
              "                    Genre    Album/Movie User-Rating  \n",
              "0          BollywoodDance         Simmba      8.8/10  \n",
              "1  BollywoodDanceRomantic    Luka Chuppi      9.0/10  \n",
              "2          BollywoodDance      Gully Boy      9.7/10  \n",
              "3          BollywoodDance  Total Dhamaal      9.1/10  \n",
              "4       BollywoodRomantic         Simmba      9.2/10  "
            ]
          },
          "execution_count": 133,
          "metadata": {},
          "output_type": "execute_result"
        }
      ],
      "source": [
        "df.head()"
      ]
    },
    {
      "cell_type": "code",
      "execution_count": null,
      "id": "fa832241",
      "metadata": {
        "id": "fa832241",
        "outputId": "845e483a-d32a-492a-c0d3-2a2fc002ea15"
      },
      "outputs": [
        {
          "name": "stdout",
          "output_type": "stream",
          "text": [
            "(2420, 5)\n"
          ]
        }
      ],
      "source": [
        "print(df.shape)"
      ]
    },
    {
      "cell_type": "code",
      "execution_count": null,
      "id": "64238ddb",
      "metadata": {
        "id": "64238ddb",
        "outputId": "05bc6128-3315-4426-969c-005e1017b6b3"
      },
      "outputs": [
        {
          "data": {
            "text/plain": [
              "Song-Name          0\n",
              "Singer/Artists    10\n",
              "Genre              0\n",
              "Album/Movie        3\n",
              "User-Rating        0\n",
              "dtype: int64"
            ]
          },
          "execution_count": 135,
          "metadata": {},
          "output_type": "execute_result"
        }
      ],
      "source": [
        "df.isnull().sum()"
      ]
    },
    {
      "cell_type": "code",
      "execution_count": null,
      "id": "045cb489",
      "metadata": {
        "id": "045cb489",
        "outputId": "20d514c3-7ca1-492f-f5a5-d074c885b5c6"
      },
      "outputs": [
        {
          "data": {
            "text/plain": [
              "16"
            ]
          },
          "execution_count": 136,
          "metadata": {},
          "output_type": "execute_result"
        }
      ],
      "source": [
        "df.duplicated().sum()"
      ]
    },
    {
      "cell_type": "code",
      "execution_count": null,
      "id": "41b1721c",
      "metadata": {
        "id": "41b1721c"
      },
      "outputs": [],
      "source": [
        "df=df.drop_duplicates()"
      ]
    },
    {
      "cell_type": "code",
      "execution_count": null,
      "id": "e678fce1",
      "metadata": {
        "id": "e678fce1",
        "outputId": "06e12e1b-6bf1-445a-af5c-fc80c6933f54"
      },
      "outputs": [
        {
          "data": {
            "text/plain": [
              "0"
            ]
          },
          "execution_count": 138,
          "metadata": {},
          "output_type": "execute_result"
        }
      ],
      "source": [
        "df.duplicated().sum()"
      ]
    },
    {
      "cell_type": "code",
      "execution_count": null,
      "id": "c0e1a91a",
      "metadata": {
        "id": "c0e1a91a"
      },
      "outputs": [],
      "source": [
        "df.dropna(inplace=True)"
      ]
    },
    {
      "cell_type": "code",
      "execution_count": null,
      "id": "d8000ab5",
      "metadata": {
        "id": "d8000ab5",
        "outputId": "81258c0e-fd85-4734-f290-ce753790ac6b"
      },
      "outputs": [
        {
          "data": {
            "text/plain": [
              "Song-Name         0\n",
              "Singer/Artists    0\n",
              "Genre             0\n",
              "Album/Movie       0\n",
              "User-Rating       0\n",
              "dtype: int64"
            ]
          },
          "execution_count": 140,
          "metadata": {},
          "output_type": "execute_result"
        }
      ],
      "source": [
        "df.isnull().sum()"
      ]
    },
    {
      "cell_type": "code",
      "execution_count": null,
      "id": "2dc4450b",
      "metadata": {
        "id": "2dc4450b",
        "outputId": "5cd9bfe1-89d7-4b99-892f-771a3a8e92b9"
      },
      "outputs": [
        {
          "data": {
            "text/plain": [
              "'BollywoodDance'"
            ]
          },
          "execution_count": 141,
          "metadata": {},
          "output_type": "execute_result"
        }
      ],
      "source": [
        "df.iloc[0].Genre"
      ]
    },
    {
      "cell_type": "code",
      "execution_count": null,
      "id": "502a3fd7",
      "metadata": {
        "id": "502a3fd7"
      },
      "outputs": [],
      "source": [
        "l=[]\n",
        "for i in df['User-Rating']:\n",
        "    l.append(i[:3])"
      ]
    },
    {
      "cell_type": "code",
      "execution_count": null,
      "id": "06cf1048",
      "metadata": {
        "id": "06cf1048",
        "outputId": "d65a6fcb-23e7-4aee-de86-4a66ff21568c"
      },
      "outputs": [
        {
          "data": {
            "text/html": [
              "<div>\n",
              "<style scoped>\n",
              "    .dataframe tbody tr th:only-of-type {\n",
              "        vertical-align: middle;\n",
              "    }\n",
              "\n",
              "    .dataframe tbody tr th {\n",
              "        vertical-align: top;\n",
              "    }\n",
              "\n",
              "    .dataframe thead th {\n",
              "        text-align: right;\n",
              "    }\n",
              "</style>\n",
              "<table border=\"1\" class=\"dataframe\">\n",
              "  <thead>\n",
              "    <tr style=\"text-align: right;\">\n",
              "      <th></th>\n",
              "      <th>Song-Name</th>\n",
              "      <th>Singer/Artists</th>\n",
              "      <th>Genre</th>\n",
              "      <th>Album/Movie</th>\n",
              "      <th>User-Rating</th>\n",
              "    </tr>\n",
              "  </thead>\n",
              "  <tbody>\n",
              "    <tr>\n",
              "      <th>0</th>\n",
              "      <td>Aankh Marey</td>\n",
              "      <td>Kumar Sanu, Mika Singh, Neha Kakkar</td>\n",
              "      <td>BollywoodDance</td>\n",
              "      <td>Simmba</td>\n",
              "      <td>8.8/10</td>\n",
              "    </tr>\n",
              "    <tr>\n",
              "      <th>1</th>\n",
              "      <td>Coca Cola</td>\n",
              "      <td>Neha Kakkar, Tony Kakkar</td>\n",
              "      <td>BollywoodDanceRomantic</td>\n",
              "      <td>Luka Chuppi</td>\n",
              "      <td>9.0/10</td>\n",
              "    </tr>\n",
              "    <tr>\n",
              "      <th>2</th>\n",
              "      <td>Apna Time Aayega</td>\n",
              "      <td>Ranveer Singh</td>\n",
              "      <td>BollywoodDance</td>\n",
              "      <td>Gully Boy</td>\n",
              "      <td>9.7/10</td>\n",
              "    </tr>\n",
              "    <tr>\n",
              "      <th>3</th>\n",
              "      <td>Mungda</td>\n",
              "      <td>Jyotica Tangri, Shaan, Subhro Ganguly</td>\n",
              "      <td>BollywoodDance</td>\n",
              "      <td>Total Dhamaal</td>\n",
              "      <td>9.1/10</td>\n",
              "    </tr>\n",
              "    <tr>\n",
              "      <th>4</th>\n",
              "      <td>Tere Bin</td>\n",
              "      <td>Asees Kaur, Rahat Fateh Ali Khan, Tanishk Bagchi</td>\n",
              "      <td>BollywoodRomantic</td>\n",
              "      <td>Simmba</td>\n",
              "      <td>9.2/10</td>\n",
              "    </tr>\n",
              "  </tbody>\n",
              "</table>\n",
              "</div>"
            ],
            "text/plain": [
              "          Song-Name                                    Singer/Artists  \\\n",
              "0       Aankh Marey               Kumar Sanu, Mika Singh, Neha Kakkar   \n",
              "1         Coca Cola                          Neha Kakkar, Tony Kakkar   \n",
              "2  Apna Time Aayega                                     Ranveer Singh   \n",
              "3            Mungda             Jyotica Tangri, Shaan, Subhro Ganguly   \n",
              "4          Tere Bin  Asees Kaur, Rahat Fateh Ali Khan, Tanishk Bagchi   \n",
              "\n",
              "                    Genre    Album/Movie User-Rating  \n",
              "0          BollywoodDance         Simmba      8.8/10  \n",
              "1  BollywoodDanceRomantic    Luka Chuppi      9.0/10  \n",
              "2          BollywoodDance      Gully Boy      9.7/10  \n",
              "3          BollywoodDance  Total Dhamaal      9.1/10  \n",
              "4       BollywoodRomantic         Simmba      9.2/10  "
            ]
          },
          "execution_count": 143,
          "metadata": {},
          "output_type": "execute_result"
        }
      ],
      "source": [
        "df.head()"
      ]
    },
    {
      "cell_type": "code",
      "execution_count": null,
      "id": "78191ee2",
      "metadata": {
        "id": "78191ee2"
      },
      "outputs": [],
      "source": [
        "df['User-Rating']=l\n",
        "df['Album/Movie']=df['Album/Movie'].str.replace(\" \",\"\")\n",
        "df['Singer/Artists']=df['Singer/Artists'].str.replace(\" \",\"\")"
      ]
    },
    {
      "cell_type": "code",
      "execution_count": null,
      "id": "cf2b096e",
      "metadata": {
        "id": "cf2b096e",
        "outputId": "0921d2d3-b87e-4b2c-eb05-73a22b50961f"
      },
      "outputs": [
        {
          "data": {
            "text/html": [
              "<div>\n",
              "<style scoped>\n",
              "    .dataframe tbody tr th:only-of-type {\n",
              "        vertical-align: middle;\n",
              "    }\n",
              "\n",
              "    .dataframe tbody tr th {\n",
              "        vertical-align: top;\n",
              "    }\n",
              "\n",
              "    .dataframe thead th {\n",
              "        text-align: right;\n",
              "    }\n",
              "</style>\n",
              "<table border=\"1\" class=\"dataframe\">\n",
              "  <thead>\n",
              "    <tr style=\"text-align: right;\">\n",
              "      <th></th>\n",
              "      <th>Song-Name</th>\n",
              "      <th>Singer/Artists</th>\n",
              "      <th>Genre</th>\n",
              "      <th>Album/Movie</th>\n",
              "      <th>User-Rating</th>\n",
              "    </tr>\n",
              "  </thead>\n",
              "  <tbody>\n",
              "    <tr>\n",
              "      <th>0</th>\n",
              "      <td>Aankh Marey</td>\n",
              "      <td>KumarSanu,MikaSingh,NehaKakkar</td>\n",
              "      <td>BollywoodDance</td>\n",
              "      <td>Simmba</td>\n",
              "      <td>8.8</td>\n",
              "    </tr>\n",
              "    <tr>\n",
              "      <th>1</th>\n",
              "      <td>Coca Cola</td>\n",
              "      <td>NehaKakkar,TonyKakkar</td>\n",
              "      <td>BollywoodDanceRomantic</td>\n",
              "      <td>LukaChuppi</td>\n",
              "      <td>9.0</td>\n",
              "    </tr>\n",
              "    <tr>\n",
              "      <th>2</th>\n",
              "      <td>Apna Time Aayega</td>\n",
              "      <td>RanveerSingh</td>\n",
              "      <td>BollywoodDance</td>\n",
              "      <td>GullyBoy</td>\n",
              "      <td>9.7</td>\n",
              "    </tr>\n",
              "    <tr>\n",
              "      <th>3</th>\n",
              "      <td>Mungda</td>\n",
              "      <td>JyoticaTangri,Shaan,SubhroGanguly</td>\n",
              "      <td>BollywoodDance</td>\n",
              "      <td>TotalDhamaal</td>\n",
              "      <td>9.1</td>\n",
              "    </tr>\n",
              "    <tr>\n",
              "      <th>4</th>\n",
              "      <td>Tere Bin</td>\n",
              "      <td>AseesKaur,RahatFatehAliKhan,TanishkBagchi</td>\n",
              "      <td>BollywoodRomantic</td>\n",
              "      <td>Simmba</td>\n",
              "      <td>9.2</td>\n",
              "    </tr>\n",
              "  </tbody>\n",
              "</table>\n",
              "</div>"
            ],
            "text/plain": [
              "          Song-Name                             Singer/Artists  \\\n",
              "0       Aankh Marey             KumarSanu,MikaSingh,NehaKakkar   \n",
              "1         Coca Cola                      NehaKakkar,TonyKakkar   \n",
              "2  Apna Time Aayega                               RanveerSingh   \n",
              "3            Mungda          JyoticaTangri,Shaan,SubhroGanguly   \n",
              "4          Tere Bin  AseesKaur,RahatFatehAliKhan,TanishkBagchi   \n",
              "\n",
              "                    Genre   Album/Movie User-Rating  \n",
              "0          BollywoodDance        Simmba         8.8  \n",
              "1  BollywoodDanceRomantic    LukaChuppi         9.0  \n",
              "2          BollywoodDance      GullyBoy         9.7  \n",
              "3          BollywoodDance  TotalDhamaal         9.1  \n",
              "4       BollywoodRomantic        Simmba         9.2  "
            ]
          },
          "execution_count": 145,
          "metadata": {},
          "output_type": "execute_result"
        }
      ],
      "source": [
        "df.head()"
      ]
    },
    {
      "cell_type": "code",
      "execution_count": null,
      "id": "db9973f6",
      "metadata": {
        "id": "db9973f6"
      },
      "outputs": [],
      "source": [
        "df['tags']=df['Song-Name'] + df['Singer/Artists'] + df['Genre'] + df['Album/Movie'] + df['User-Rating']"
      ]
    },
    {
      "cell_type": "code",
      "execution_count": null,
      "id": "c40aea4f",
      "metadata": {
        "id": "c40aea4f",
        "outputId": "327fa4fe-68c5-402e-94c2-30fdb52cf95d"
      },
      "outputs": [
        {
          "data": {
            "text/html": [
              "<div>\n",
              "<style scoped>\n",
              "    .dataframe tbody tr th:only-of-type {\n",
              "        vertical-align: middle;\n",
              "    }\n",
              "\n",
              "    .dataframe tbody tr th {\n",
              "        vertical-align: top;\n",
              "    }\n",
              "\n",
              "    .dataframe thead th {\n",
              "        text-align: right;\n",
              "    }\n",
              "</style>\n",
              "<table border=\"1\" class=\"dataframe\">\n",
              "  <thead>\n",
              "    <tr style=\"text-align: right;\">\n",
              "      <th></th>\n",
              "      <th>Song-Name</th>\n",
              "      <th>Singer/Artists</th>\n",
              "      <th>Genre</th>\n",
              "      <th>Album/Movie</th>\n",
              "      <th>User-Rating</th>\n",
              "      <th>tags</th>\n",
              "    </tr>\n",
              "  </thead>\n",
              "  <tbody>\n",
              "    <tr>\n",
              "      <th>0</th>\n",
              "      <td>Aankh Marey</td>\n",
              "      <td>KumarSanu,MikaSingh,NehaKakkar</td>\n",
              "      <td>BollywoodDance</td>\n",
              "      <td>Simmba</td>\n",
              "      <td>8.8</td>\n",
              "      <td>Aankh MareyKumarSanu,MikaSingh,NehaKakkarBolly...</td>\n",
              "    </tr>\n",
              "    <tr>\n",
              "      <th>1</th>\n",
              "      <td>Coca Cola</td>\n",
              "      <td>NehaKakkar,TonyKakkar</td>\n",
              "      <td>BollywoodDanceRomantic</td>\n",
              "      <td>LukaChuppi</td>\n",
              "      <td>9.0</td>\n",
              "      <td>Coca ColaNehaKakkar,TonyKakkarBollywoodDanceRo...</td>\n",
              "    </tr>\n",
              "    <tr>\n",
              "      <th>2</th>\n",
              "      <td>Apna Time Aayega</td>\n",
              "      <td>RanveerSingh</td>\n",
              "      <td>BollywoodDance</td>\n",
              "      <td>GullyBoy</td>\n",
              "      <td>9.7</td>\n",
              "      <td>Apna Time AayegaRanveerSinghBollywoodDanceGull...</td>\n",
              "    </tr>\n",
              "    <tr>\n",
              "      <th>3</th>\n",
              "      <td>Mungda</td>\n",
              "      <td>JyoticaTangri,Shaan,SubhroGanguly</td>\n",
              "      <td>BollywoodDance</td>\n",
              "      <td>TotalDhamaal</td>\n",
              "      <td>9.1</td>\n",
              "      <td>MungdaJyoticaTangri,Shaan,SubhroGangulyBollywo...</td>\n",
              "    </tr>\n",
              "    <tr>\n",
              "      <th>4</th>\n",
              "      <td>Tere Bin</td>\n",
              "      <td>AseesKaur,RahatFatehAliKhan,TanishkBagchi</td>\n",
              "      <td>BollywoodRomantic</td>\n",
              "      <td>Simmba</td>\n",
              "      <td>9.2</td>\n",
              "      <td>Tere BinAseesKaur,RahatFatehAliKhan,TanishkBag...</td>\n",
              "    </tr>\n",
              "  </tbody>\n",
              "</table>\n",
              "</div>"
            ],
            "text/plain": [
              "          Song-Name                             Singer/Artists  \\\n",
              "0       Aankh Marey             KumarSanu,MikaSingh,NehaKakkar   \n",
              "1         Coca Cola                      NehaKakkar,TonyKakkar   \n",
              "2  Apna Time Aayega                               RanveerSingh   \n",
              "3            Mungda          JyoticaTangri,Shaan,SubhroGanguly   \n",
              "4          Tere Bin  AseesKaur,RahatFatehAliKhan,TanishkBagchi   \n",
              "\n",
              "                    Genre   Album/Movie User-Rating  \\\n",
              "0          BollywoodDance        Simmba         8.8   \n",
              "1  BollywoodDanceRomantic    LukaChuppi         9.0   \n",
              "2          BollywoodDance      GullyBoy         9.7   \n",
              "3          BollywoodDance  TotalDhamaal         9.1   \n",
              "4       BollywoodRomantic        Simmba         9.2   \n",
              "\n",
              "                                                tags  \n",
              "0  Aankh MareyKumarSanu,MikaSingh,NehaKakkarBolly...  \n",
              "1  Coca ColaNehaKakkar,TonyKakkarBollywoodDanceRo...  \n",
              "2  Apna Time AayegaRanveerSinghBollywoodDanceGull...  \n",
              "3  MungdaJyoticaTangri,Shaan,SubhroGangulyBollywo...  \n",
              "4  Tere BinAseesKaur,RahatFatehAliKhan,TanishkBag...  "
            ]
          },
          "execution_count": 147,
          "metadata": {},
          "output_type": "execute_result"
        }
      ],
      "source": [
        "df.head()"
      ]
    },
    {
      "cell_type": "code",
      "execution_count": null,
      "id": "7296afaf",
      "metadata": {
        "id": "7296afaf"
      },
      "outputs": [],
      "source": [
        "ndf=df[['Song-Name','Album/Movie','tags']]"
      ]
    },
    {
      "cell_type": "code",
      "execution_count": null,
      "id": "4b482194",
      "metadata": {
        "id": "4b482194",
        "outputId": "041c9db1-f220-4bbb-c126-70560868e360"
      },
      "outputs": [
        {
          "data": {
            "text/html": [
              "<div>\n",
              "<style scoped>\n",
              "    .dataframe tbody tr th:only-of-type {\n",
              "        vertical-align: middle;\n",
              "    }\n",
              "\n",
              "    .dataframe tbody tr th {\n",
              "        vertical-align: top;\n",
              "    }\n",
              "\n",
              "    .dataframe thead th {\n",
              "        text-align: right;\n",
              "    }\n",
              "</style>\n",
              "<table border=\"1\" class=\"dataframe\">\n",
              "  <thead>\n",
              "    <tr style=\"text-align: right;\">\n",
              "      <th></th>\n",
              "      <th>Song-Name</th>\n",
              "      <th>Album/Movie</th>\n",
              "      <th>tags</th>\n",
              "    </tr>\n",
              "  </thead>\n",
              "  <tbody>\n",
              "    <tr>\n",
              "      <th>0</th>\n",
              "      <td>Aankh Marey</td>\n",
              "      <td>Simmba</td>\n",
              "      <td>Aankh MareyKumarSanu,MikaSingh,NehaKakkarBolly...</td>\n",
              "    </tr>\n",
              "    <tr>\n",
              "      <th>1</th>\n",
              "      <td>Coca Cola</td>\n",
              "      <td>LukaChuppi</td>\n",
              "      <td>Coca ColaNehaKakkar,TonyKakkarBollywoodDanceRo...</td>\n",
              "    </tr>\n",
              "    <tr>\n",
              "      <th>2</th>\n",
              "      <td>Apna Time Aayega</td>\n",
              "      <td>GullyBoy</td>\n",
              "      <td>Apna Time AayegaRanveerSinghBollywoodDanceGull...</td>\n",
              "    </tr>\n",
              "    <tr>\n",
              "      <th>3</th>\n",
              "      <td>Mungda</td>\n",
              "      <td>TotalDhamaal</td>\n",
              "      <td>MungdaJyoticaTangri,Shaan,SubhroGangulyBollywo...</td>\n",
              "    </tr>\n",
              "    <tr>\n",
              "      <th>4</th>\n",
              "      <td>Tere Bin</td>\n",
              "      <td>Simmba</td>\n",
              "      <td>Tere BinAseesKaur,RahatFatehAliKhan,TanishkBag...</td>\n",
              "    </tr>\n",
              "    <tr>\n",
              "      <th>...</th>\n",
              "      <td>...</td>\n",
              "      <td>...</td>\n",
              "      <td>...</td>\n",
              "    </tr>\n",
              "    <tr>\n",
              "      <th>2415</th>\n",
              "      <td>Jana Tumhare Pyar Mein</td>\n",
              "      <td>Sasural</td>\n",
              "      <td>Jana Tumhare Pyar MeinMukeshBollywoodDanceSasu...</td>\n",
              "    </tr>\n",
              "    <tr>\n",
              "      <th>2416</th>\n",
              "      <td>Tum Jaise Bigde Babu Se</td>\n",
              "      <td>JabPyarKisiSeHotaHai</td>\n",
              "      <td>Tum Jaise Bigde Babu SeLataMangeshkarBollywood...</td>\n",
              "    </tr>\n",
              "    <tr>\n",
              "      <th>2417</th>\n",
              "      <td>O Yaad Nahi Bhool Gaya</td>\n",
              "      <td>Lamhe</td>\n",
              "      <td>O Yaad Nahi Bhool GayaLataMangeshkar,SureshWad...</td>\n",
              "    </tr>\n",
              "    <tr>\n",
              "      <th>2418</th>\n",
              "      <td>Ladi Re Ladi Tujhse Aankh Jo Ladi</td>\n",
              "      <td>SholaAurShabnam</td>\n",
              "      <td>Ladi Re Ladi Tujhse Aankh Jo LadiJagjitKaurBol...</td>\n",
              "    </tr>\n",
              "    <tr>\n",
              "      <th>2419</th>\n",
              "      <td>Mummy Aur Daddy Mein Ladai Ho Gayi</td>\n",
              "      <td>SholaAurShabnam</td>\n",
              "      <td>Mummy Aur Daddy Mein Ladai Ho GayiAshaBhosleBo...</td>\n",
              "    </tr>\n",
              "  </tbody>\n",
              "</table>\n",
              "<p>2391 rows × 3 columns</p>\n",
              "</div>"
            ],
            "text/plain": [
              "                               Song-Name           Album/Movie  \\\n",
              "0                            Aankh Marey                Simmba   \n",
              "1                              Coca Cola            LukaChuppi   \n",
              "2                       Apna Time Aayega              GullyBoy   \n",
              "3                                 Mungda          TotalDhamaal   \n",
              "4                               Tere Bin                Simmba   \n",
              "...                                  ...                   ...   \n",
              "2415              Jana Tumhare Pyar Mein               Sasural   \n",
              "2416             Tum Jaise Bigde Babu Se  JabPyarKisiSeHotaHai   \n",
              "2417              O Yaad Nahi Bhool Gaya                 Lamhe   \n",
              "2418   Ladi Re Ladi Tujhse Aankh Jo Ladi       SholaAurShabnam   \n",
              "2419  Mummy Aur Daddy Mein Ladai Ho Gayi       SholaAurShabnam   \n",
              "\n",
              "                                                   tags  \n",
              "0     Aankh MareyKumarSanu,MikaSingh,NehaKakkarBolly...  \n",
              "1     Coca ColaNehaKakkar,TonyKakkarBollywoodDanceRo...  \n",
              "2     Apna Time AayegaRanveerSinghBollywoodDanceGull...  \n",
              "3     MungdaJyoticaTangri,Shaan,SubhroGangulyBollywo...  \n",
              "4     Tere BinAseesKaur,RahatFatehAliKhan,TanishkBag...  \n",
              "...                                                 ...  \n",
              "2415  Jana Tumhare Pyar MeinMukeshBollywoodDanceSasu...  \n",
              "2416  Tum Jaise Bigde Babu SeLataMangeshkarBollywood...  \n",
              "2417  O Yaad Nahi Bhool GayaLataMangeshkar,SureshWad...  \n",
              "2418  Ladi Re Ladi Tujhse Aankh Jo LadiJagjitKaurBol...  \n",
              "2419  Mummy Aur Daddy Mein Ladai Ho GayiAshaBhosleBo...  \n",
              "\n",
              "[2391 rows x 3 columns]"
            ]
          },
          "execution_count": 149,
          "metadata": {},
          "output_type": "execute_result"
        }
      ],
      "source": [
        "ndf"
      ]
    },
    {
      "cell_type": "code",
      "execution_count": null,
      "id": "e8a1d45c",
      "metadata": {
        "id": "e8a1d45c",
        "outputId": "1deb9846-f129-45e5-f107-34c6d87380d5"
      },
      "outputs": [
        {
          "data": {
            "text/plain": [
              "'Aankh MareyKumarSanu,MikaSingh,NehaKakkarBollywoodDanceSimmba8.8'"
            ]
          },
          "execution_count": 150,
          "metadata": {},
          "output_type": "execute_result"
        }
      ],
      "source": [
        "ndf['tags'][0]"
      ]
    },
    {
      "cell_type": "code",
      "execution_count": null,
      "id": "be5233b5",
      "metadata": {
        "id": "be5233b5",
        "outputId": "c027688a-8d6b-495d-cc01-e80265ae1735"
      },
      "outputs": [
        {
          "name": "stderr",
          "output_type": "stream",
          "text": [
            "C:\\Users\\91831\\AppData\\Local\\Temp\\ipykernel_2996\\2135130794.py:1: SettingWithCopyWarning: \n",
            "A value is trying to be set on a copy of a slice from a DataFrame.\n",
            "Try using .loc[row_indexer,col_indexer] = value instead\n",
            "\n",
            "See the caveats in the documentation: https://pandas.pydata.org/pandas-docs/stable/user_guide/indexing.html#returning-a-view-versus-a-copy\n",
            "  ndf['tags']=ndf['tags'].apply(lambda x:x.lower())\n"
          ]
        }
      ],
      "source": [
        "ndf['tags']=ndf['tags'].apply(lambda x:x.lower())"
      ]
    },
    {
      "cell_type": "code",
      "execution_count": null,
      "id": "e1219791",
      "metadata": {
        "id": "e1219791",
        "outputId": "afbace1d-91e4-4479-eb63-1fb98523a129"
      },
      "outputs": [
        {
          "data": {
            "text/html": [
              "<div>\n",
              "<style scoped>\n",
              "    .dataframe tbody tr th:only-of-type {\n",
              "        vertical-align: middle;\n",
              "    }\n",
              "\n",
              "    .dataframe tbody tr th {\n",
              "        vertical-align: top;\n",
              "    }\n",
              "\n",
              "    .dataframe thead th {\n",
              "        text-align: right;\n",
              "    }\n",
              "</style>\n",
              "<table border=\"1\" class=\"dataframe\">\n",
              "  <thead>\n",
              "    <tr style=\"text-align: right;\">\n",
              "      <th></th>\n",
              "      <th>Song-Name</th>\n",
              "      <th>Album/Movie</th>\n",
              "      <th>tags</th>\n",
              "    </tr>\n",
              "  </thead>\n",
              "  <tbody>\n",
              "    <tr>\n",
              "      <th>0</th>\n",
              "      <td>Aankh Marey</td>\n",
              "      <td>Simmba</td>\n",
              "      <td>aankh mareykumarsanu,mikasingh,nehakakkarbolly...</td>\n",
              "    </tr>\n",
              "    <tr>\n",
              "      <th>1</th>\n",
              "      <td>Coca Cola</td>\n",
              "      <td>LukaChuppi</td>\n",
              "      <td>coca colanehakakkar,tonykakkarbollywooddancero...</td>\n",
              "    </tr>\n",
              "    <tr>\n",
              "      <th>2</th>\n",
              "      <td>Apna Time Aayega</td>\n",
              "      <td>GullyBoy</td>\n",
              "      <td>apna time aayegaranveersinghbollywooddancegull...</td>\n",
              "    </tr>\n",
              "    <tr>\n",
              "      <th>3</th>\n",
              "      <td>Mungda</td>\n",
              "      <td>TotalDhamaal</td>\n",
              "      <td>mungdajyoticatangri,shaan,subhrogangulybollywo...</td>\n",
              "    </tr>\n",
              "    <tr>\n",
              "      <th>4</th>\n",
              "      <td>Tere Bin</td>\n",
              "      <td>Simmba</td>\n",
              "      <td>tere binaseeskaur,rahatfatehalikhan,tanishkbag...</td>\n",
              "    </tr>\n",
              "  </tbody>\n",
              "</table>\n",
              "</div>"
            ],
            "text/plain": [
              "          Song-Name   Album/Movie  \\\n",
              "0       Aankh Marey        Simmba   \n",
              "1         Coca Cola    LukaChuppi   \n",
              "2  Apna Time Aayega      GullyBoy   \n",
              "3            Mungda  TotalDhamaal   \n",
              "4          Tere Bin        Simmba   \n",
              "\n",
              "                                                tags  \n",
              "0  aankh mareykumarsanu,mikasingh,nehakakkarbolly...  \n",
              "1  coca colanehakakkar,tonykakkarbollywooddancero...  \n",
              "2  apna time aayegaranveersinghbollywooddancegull...  \n",
              "3  mungdajyoticatangri,shaan,subhrogangulybollywo...  \n",
              "4  tere binaseeskaur,rahatfatehalikhan,tanishkbag...  "
            ]
          },
          "execution_count": 152,
          "metadata": {},
          "output_type": "execute_result"
        }
      ],
      "source": [
        "ndf.head()"
      ]
    },
    {
      "cell_type": "code",
      "execution_count": null,
      "id": "745a691d",
      "metadata": {
        "id": "745a691d",
        "outputId": "10b94c84-0817-465b-94df-087849003f65"
      },
      "outputs": [
        {
          "name": "stdout",
          "output_type": "stream",
          "text": [
            "Requirement already satisfied: nltk in c:\\users\\91831\\anaconda3\\lib\\site-packages (3.8.1)\n",
            "Requirement already satisfied: click in c:\\users\\91831\\anaconda3\\lib\\site-packages (from nltk) (8.0.4)\n",
            "Requirement already satisfied: joblib in c:\\users\\91831\\anaconda3\\lib\\site-packages (from nltk) (1.2.0)\n",
            "Requirement already satisfied: regex>=2021.8.3 in c:\\users\\91831\\anaconda3\\lib\\site-packages (from nltk) (2022.7.9)\n",
            "Requirement already satisfied: tqdm in c:\\users\\91831\\anaconda3\\lib\\site-packages (from nltk) (4.65.0)\n",
            "Requirement already satisfied: colorama in c:\\users\\91831\\anaconda3\\lib\\site-packages (from click->nltk) (0.4.6)\n"
          ]
        }
      ],
      "source": [
        "! pip install nltk\n"
      ]
    },
    {
      "cell_type": "code",
      "execution_count": null,
      "id": "8397cc48",
      "metadata": {
        "id": "8397cc48",
        "outputId": "269aab59-6ebb-4d51-d6fe-ff1bbb0c5436"
      },
      "outputs": [
        {
          "name": "stderr",
          "output_type": "stream",
          "text": [
            "[nltk_data] Downloading package punkt to\n",
            "[nltk_data]     C:\\Users\\91831\\AppData\\Roaming\\nltk_data...\n",
            "[nltk_data]   Package punkt is already up-to-date!\n"
          ]
        },
        {
          "data": {
            "text/plain": [
              "0       aankh mareykumarsanu,mikasingh,nehakakkarbolly...\n",
              "1       coca colanehakakkar,tonykakkarbollywooddancero...\n",
              "2       apna time aayegaranveersinghbollywooddancegull...\n",
              "3       mungdajyoticatangri,shaan,subhrogangulybollywo...\n",
              "4       tere binaseeskaur,rahatfatehalikhan,tanishkbag...\n",
              "                              ...                        \n",
              "2415    jana tumhar pyar meinmukeshbollywooddancesasur...\n",
              "2416    tum jais bigd babu selatamangeshkarbollywoodda...\n",
              "2417    o yaad nahi bhool gayalatamangeshkar,sureshwad...\n",
              "2418    ladi re ladi tujhs aankh jo ladijagjitkaurboll...\n",
              "2419    mummi aur daddi mein ladai ho gayiashabhoslebo...\n",
              "Name: tags, Length: 2391, dtype: object"
            ]
          },
          "execution_count": 154,
          "metadata": {},
          "output_type": "execute_result"
        }
      ],
      "source": [
        "import nltk\n",
        "from nltk.stem import PorterStemmer\n",
        "nltk.download('punkt')  # If you haven't downloaded the punkt tokenizer before\n",
        "\n",
        "# Initialize the stemmer\n",
        "ps = PorterStemmer()\n",
        "\n",
        "# Define the stem function\n",
        "def stem(text):\n",
        "    y = []\n",
        "    for i in text.split():\n",
        "        y.append(ps.stem(i))\n",
        "    return \" \".join(y)\n",
        "\n",
        "# Now you can use the stem function\n",
        "ndf['tags'].apply(stem)"
      ]
    },
    {
      "cell_type": "code",
      "execution_count": null,
      "id": "d63c6add",
      "metadata": {
        "id": "d63c6add",
        "outputId": "7c6898ff-7bb0-4ba0-cd48-853ae85ac78f"
      },
      "outputs": [
        {
          "name": "stderr",
          "output_type": "stream",
          "text": [
            "C:\\Users\\91831\\AppData\\Local\\Temp\\ipykernel_2996\\2121239825.py:1: SettingWithCopyWarning: \n",
            "A value is trying to be set on a copy of a slice from a DataFrame.\n",
            "Try using .loc[row_indexer,col_indexer] = value instead\n",
            "\n",
            "See the caveats in the documentation: https://pandas.pydata.org/pandas-docs/stable/user_guide/indexing.html#returning-a-view-versus-a-copy\n",
            "  ndf['tags']=ndf['tags'].apply(stem)\n"
          ]
        }
      ],
      "source": [
        "ndf['tags']=ndf['tags'].apply(stem)"
      ]
    },
    {
      "cell_type": "code",
      "execution_count": null,
      "id": "544dd67f",
      "metadata": {
        "id": "544dd67f"
      },
      "outputs": [],
      "source": []
    },
    {
      "cell_type": "code",
      "execution_count": null,
      "id": "ffc93390",
      "metadata": {
        "id": "ffc93390"
      },
      "outputs": [],
      "source": []
    },
    {
      "cell_type": "code",
      "execution_count": null,
      "id": "db4002d6",
      "metadata": {
        "id": "db4002d6",
        "outputId": "a166ee7f-5b6b-4eba-a0e7-871dc8982911"
      },
      "outputs": [
        {
          "ename": "NameError",
          "evalue": "name 'Countvectorizer' is not defined",
          "output_type": "error",
          "traceback": [
            "\u001b[1;31m---------------------------------------------------------------------------\u001b[0m",
            "\u001b[1;31mNameError\u001b[0m                                 Traceback (most recent call last)",
            "Cell \u001b[1;32mIn[156], line 2\u001b[0m\n\u001b[0;32m      1\u001b[0m \u001b[38;5;28;01mfrom\u001b[39;00m \u001b[38;5;21;01msklearn\u001b[39;00m\u001b[38;5;21;01m.\u001b[39;00m\u001b[38;5;21;01mfeature_extraction\u001b[39;00m\u001b[38;5;21;01m.\u001b[39;00m\u001b[38;5;21;01mtext\u001b[39;00m \u001b[38;5;28;01mimport\u001b[39;00m CountVectorizer\n\u001b[1;32m----> 2\u001b[0m cv \u001b[38;5;241m=\u001b[39m Countvectorizer(max_features\u001b[38;5;241m=\u001b[39m\u001b[38;5;241m2391\u001b[39m,stop_words\u001b[38;5;241m=\u001b[39m\u001b[38;5;124m'\u001b[39m\u001b[38;5;124menglish\u001b[39m\u001b[38;5;124m'\u001b[39m)\n",
            "\u001b[1;31mNameError\u001b[0m: name 'Countvectorizer' is not defined"
          ]
        }
      ],
      "source": [
        "from sklearn.feature_extraction.text import CountVectorizer\n",
        "cv = Countvectorizer(max_features=2391,stop_words='english')"
      ]
    },
    {
      "cell_type": "code",
      "execution_count": null,
      "id": "64587244",
      "metadata": {
        "id": "64587244"
      },
      "outputs": [],
      "source": [
        "cv.fit_transform(ddf['tags']).toarray().shape"
      ]
    },
    {
      "cell_type": "code",
      "execution_count": null,
      "id": "8e062272",
      "metadata": {
        "id": "8e062272"
      },
      "outputs": [],
      "source": [
        "from sklearn.feature_extraction.text import CountVectorizer\n",
        "cv = CountVectorizer(max_features=2391,stop_words='english')"
      ]
    },
    {
      "cell_type": "code",
      "execution_count": null,
      "id": "b4fc7ea4",
      "metadata": {
        "id": "b4fc7ea4"
      },
      "outputs": [],
      "source": [
        "vector = cv.fit_transform(ndf['tags']).toarray()"
      ]
    },
    {
      "cell_type": "code",
      "execution_count": null,
      "id": "aab9dca0",
      "metadata": {
        "id": "aab9dca0"
      },
      "outputs": [],
      "source": [
        "vector.shape"
      ]
    },
    {
      "cell_type": "code",
      "execution_count": null,
      "id": "8ee42ec2",
      "metadata": {
        "id": "8ee42ec2",
        "outputId": "94c96c1c-b167-453c-b12a-be5a27802e5c"
      },
      "outputs": [
        {
          "data": {
            "text/plain": [
              "array([[0, 0, 0, ..., 0, 0, 0],\n",
              "       [0, 0, 0, ..., 0, 0, 0],\n",
              "       [0, 0, 0, ..., 0, 0, 0],\n",
              "       ...,\n",
              "       [0, 0, 0, ..., 0, 0, 0],\n",
              "       [0, 0, 0, ..., 0, 0, 0],\n",
              "       [0, 0, 0, ..., 0, 0, 0]], dtype=int64)"
            ]
          },
          "execution_count": 157,
          "metadata": {},
          "output_type": "execute_result"
        }
      ],
      "source": [
        "vector"
      ]
    },
    {
      "cell_type": "code",
      "execution_count": null,
      "id": "3fc272e8",
      "metadata": {
        "id": "3fc272e8",
        "outputId": "c0509a0a-0e6d-4cae-c8d1-624173ae1318"
      },
      "outputs": [
        {
          "data": {
            "text/plain": [
              "array([0, 0, 0, ..., 0, 0, 0], dtype=int64)"
            ]
          },
          "execution_count": 158,
          "metadata": {},
          "output_type": "execute_result"
        }
      ],
      "source": [
        "vector[0]"
      ]
    },
    {
      "cell_type": "code",
      "execution_count": null,
      "id": "21afd6dc",
      "metadata": {
        "id": "21afd6dc",
        "outputId": "de3375ab-bde6-49ad-8504-001f6740f0bb"
      },
      "outputs": [
        {
          "name": "stdout",
          "output_type": "stream",
          "text": [
            "['18' '19' '69' ... 'zuke' 'zulf' 'zulfa']\n"
          ]
        }
      ],
      "source": [
        "feature_names = cv.get_feature_names_out()\n",
        "print(feature_names)"
      ]
    },
    {
      "cell_type": "code",
      "execution_count": null,
      "id": "f1944228",
      "metadata": {
        "id": "f1944228"
      },
      "outputs": [],
      "source": [
        "from sklearn.metrics.pairwise import cosine_similarity"
      ]
    },
    {
      "cell_type": "code",
      "execution_count": null,
      "id": "1de88aac",
      "metadata": {
        "id": "1de88aac"
      },
      "outputs": [],
      "source": [
        "similarity=cosine_similarity(vector)"
      ]
    },
    {
      "cell_type": "code",
      "execution_count": null,
      "id": "2d323c65",
      "metadata": {
        "id": "2d323c65",
        "outputId": "27b1ec08-b4ca-4b02-9afa-1d778c7a914d"
      },
      "outputs": [
        {
          "data": {
            "text/plain": [
              "[(449, 0.5773502691896258),\n",
              " (607, 0.3333333333333334),\n",
              " (848, 0.3333333333333334),\n",
              " (1033, 0.2886751345948129),\n",
              " (1128, 0.2357022603955159)]"
            ]
          },
          "execution_count": 162,
          "metadata": {},
          "output_type": "execute_result"
        }
      ],
      "source": [
        "sorted(list(enumerate(similarity[0])),reverse=True,key= lambda x:x[1])[1:6]"
      ]
    },
    {
      "cell_type": "code",
      "execution_count": null,
      "id": "4be400e0",
      "metadata": {
        "id": "4be400e0",
        "outputId": "6ec34aa1-7032-4b4f-b5d2-278594f6115a"
      },
      "outputs": [
        {
          "data": {
            "text/html": [
              "<div>\n",
              "<style scoped>\n",
              "    .dataframe tbody tr th:only-of-type {\n",
              "        vertical-align: middle;\n",
              "    }\n",
              "\n",
              "    .dataframe tbody tr th {\n",
              "        vertical-align: top;\n",
              "    }\n",
              "\n",
              "    .dataframe thead th {\n",
              "        text-align: right;\n",
              "    }\n",
              "</style>\n",
              "<table border=\"1\" class=\"dataframe\">\n",
              "  <thead>\n",
              "    <tr style=\"text-align: right;\">\n",
              "      <th></th>\n",
              "      <th>Song-Name</th>\n",
              "      <th>Album/Movie</th>\n",
              "      <th>tags</th>\n",
              "    </tr>\n",
              "  </thead>\n",
              "  <tbody>\n",
              "    <tr>\n",
              "      <th>0</th>\n",
              "      <td>Aankh Marey</td>\n",
              "      <td>Simmba</td>\n",
              "      <td>aankh mareykumarsanu,mikasingh,nehakakkarbolly...</td>\n",
              "    </tr>\n",
              "    <tr>\n",
              "      <th>1</th>\n",
              "      <td>Coca Cola</td>\n",
              "      <td>LukaChuppi</td>\n",
              "      <td>coca colanehakakkar,tonykakkarbollywooddancero...</td>\n",
              "    </tr>\n",
              "    <tr>\n",
              "      <th>2</th>\n",
              "      <td>Apna Time Aayega</td>\n",
              "      <td>GullyBoy</td>\n",
              "      <td>apna time aayegaranveersinghbollywooddancegull...</td>\n",
              "    </tr>\n",
              "    <tr>\n",
              "      <th>3</th>\n",
              "      <td>Mungda</td>\n",
              "      <td>TotalDhamaal</td>\n",
              "      <td>mungdajyoticatangri,shaan,subhrogangulybollywo...</td>\n",
              "    </tr>\n",
              "    <tr>\n",
              "      <th>4</th>\n",
              "      <td>Tere Bin</td>\n",
              "      <td>Simmba</td>\n",
              "      <td>tere binaseeskaur,rahatfatehalikhan,tanishkbag...</td>\n",
              "    </tr>\n",
              "  </tbody>\n",
              "</table>\n",
              "</div>"
            ],
            "text/plain": [
              "          Song-Name   Album/Movie  \\\n",
              "0       Aankh Marey        Simmba   \n",
              "1         Coca Cola    LukaChuppi   \n",
              "2  Apna Time Aayega      GullyBoy   \n",
              "3            Mungda  TotalDhamaal   \n",
              "4          Tere Bin        Simmba   \n",
              "\n",
              "                                                tags  \n",
              "0  aankh mareykumarsanu,mikasingh,nehakakkarbolly...  \n",
              "1  coca colanehakakkar,tonykakkarbollywooddancero...  \n",
              "2  apna time aayegaranveersinghbollywooddancegull...  \n",
              "3  mungdajyoticatangri,shaan,subhrogangulybollywo...  \n",
              "4  tere binaseeskaur,rahatfatehalikhan,tanishkbag...  "
            ]
          },
          "execution_count": 163,
          "metadata": {},
          "output_type": "execute_result"
        }
      ],
      "source": [
        "ndf.head()"
      ]
    },
    {
      "cell_type": "code",
      "execution_count": null,
      "id": "f2410ffc",
      "metadata": {
        "id": "f2410ffc",
        "outputId": "eed4640d-9f6d-48c8-e43d-7abfffbdb7c4"
      },
      "outputs": [
        {
          "data": {
            "text/plain": [
              "4"
            ]
          },
          "execution_count": 164,
          "metadata": {},
          "output_type": "execute_result"
        }
      ],
      "source": [
        "ndf[ndf['Song-Name'] == 'Tere Bin'].index[0]"
      ]
    },
    {
      "cell_type": "code",
      "execution_count": null,
      "id": "e9689173",
      "metadata": {
        "id": "e9689173"
      },
      "outputs": [],
      "source": [
        "def recommend(song):\n",
        "    song_index = ndf[ndf['Song-Name'] == song].index\n",
        "    if len(song_index) == 0:\n",
        "        print(\"Song not found in dataset.\")\n",
        "        return\n",
        "    song_index = song_index[0]\n",
        "    distance = similarity[song_index]\n",
        "    song_list = sorted(list(enumerate(distance)), reverse=True, key=lambda x: x[1])[1:6]\n",
        "\n",
        "    for i in song_list:\n",
        "\n",
        "        song_name = ndf.iloc[i[0]]['Song-Name']\n",
        "        print(song_name)\n",
        "        print(i[0])"
      ]
    },
    {
      "cell_type": "code",
      "execution_count": null,
      "id": "10369021",
      "metadata": {
        "id": "10369021",
        "outputId": "94d6e036-95d0-4943-a3fb-aa4d595b70fd"
      },
      "outputs": [
        {
          "name": "stdout",
          "output_type": "stream",
          "text": [
            "Laila\n",
            "449\n",
            "Aapka Kya Hoga\n",
            "607\n",
            "Tooh\n",
            "848\n",
            "Taang Uthake\n",
            "1033\n",
            "Rani Tu Mein Raja (\n",
            "1128\n"
          ]
        }
      ],
      "source": [
        "recommend('Aankh Marey')"
      ]
    },
    {
      "cell_type": "code",
      "execution_count": null,
      "id": "6ff0fb3b",
      "metadata": {
        "id": "6ff0fb3b"
      },
      "outputs": [],
      "source": []
    }
  ],
  "metadata": {
    "kernelspec": {
      "display_name": "Python 3 (ipykernel)",
      "language": "python",
      "name": "python3"
    },
    "language_info": {
      "codemirror_mode": {
        "name": "ipython",
        "version": 3
      },
      "file_extension": ".py",
      "mimetype": "text/x-python",
      "name": "python",
      "nbconvert_exporter": "python",
      "pygments_lexer": "ipython3",
      "version": "3.11.4"
    },
    "colab": {
      "provenance": [],
      "include_colab_link": true
    }
  },
  "nbformat": 4,
  "nbformat_minor": 5
}